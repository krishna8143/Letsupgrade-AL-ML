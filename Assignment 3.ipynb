{
 "cells": [
  {
   "cell_type": "code",
   "execution_count": 6,
   "metadata": {},
   "outputs": [
    {
     "data": {
      "text/plain": [
       "(6-2j)"
      ]
     },
     "execution_count": 6,
     "metadata": {},
     "output_type": "execute_result"
    }
   ],
   "source": [
    "# FIRST QUESTION Write a program to subtract two complex numbers in Python.\n",
    "(9+3j)-(3+5j)\n",
    "\n"
   ]
  },
  {
   "cell_type": "code",
   "execution_count": 7,
   "metadata": {},
   "outputs": [
    {
     "data": {
      "text/plain": [
       "(3+7j)"
      ]
     },
     "execution_count": 7,
     "metadata": {},
     "output_type": "execute_result"
    }
   ],
   "source": [
    "(5-2j)-(2-9j)"
   ]
  },
  {
   "cell_type": "code",
   "execution_count": 8,
   "metadata": {},
   "outputs": [
    {
     "name": "stdout",
     "output_type": "stream",
     "text": [
      "enter the value for a:55\n",
      " enter the value for b:25\n",
      "after swapping:\n",
      "value of a: 25\n",
      "value of b: 55\n"
     ]
    }
   ],
   "source": [
    "#  Q:3 Write a program to swap two numbers in Python with the help of a temporary variable.\n",
    "a = int(input(\"enter the value for a:\"))\n",
    "b = int(input(\" enter the value for b:\"))\n",
    "temp = a\n",
    "a = b\n",
    "b = temp\n",
    "\n",
    "print(\"after swapping:\")\n",
    "print(\"value of a:\",a)\n",
    "print(\"value of b:\",b)\n"
   ]
  },
  {
   "cell_type": "code",
   "execution_count": 13,
   "metadata": {},
   "outputs": [
    {
     "name": "stdout",
     "output_type": "stream",
     "text": [
      "enter the value for a:55\n",
      " enter the value for b:25\n",
      "after swapping:\n",
      "value of a: 25\n",
      "value of b: 55\n",
      "5\n",
      "10\n"
     ]
    }
   ],
   "source": [
    "# Question 4:\n",
    "# Write a program to swap two numbers in Python without using a temporary variable.\n",
    "a = int(input(\"enter the value for a:\"))\n",
    "b = int(input(\" enter the value for b:\"))\n",
    "\n",
    "a = a+b\n",
    "b = a-b\n",
    "a = a-b\n",
    "\n",
    "print(\"after swapping:\")\n",
    "print(\"value of a:\",a)\n",
    "print(\"value of b:\",b)\n",
    "\n",
    "# example 2 for swappping\n",
    "a = 10\n",
    "b = 5\n",
    "a,b = b,a \n",
    "print(a)\n",
    "print(b)\n",
    "\n",
    "\n"
   ]
  },
  {
   "cell_type": "code",
   "execution_count": 20,
   "metadata": {},
   "outputs": [
    {
     "name": "stdout",
     "output_type": "stream",
     "text": [
      "Temperature in Kelvin ( K ) = 422.389\n"
     ]
    }
   ],
   "source": [
    "# Question 5:\n",
    "# Write a program to convert fahrenheit to kelvin and celsius both.\n",
    "\n",
    "def Fahrenheit_to_Kelvin(F): \n",
    "    return 273.5 + ((F - 32.0) * (5.0/9.0)) \n",
    "F = 300\n",
    "print(\"Temperature in Kelvin ( K ) = {:.3f}\".format(Fahrenheit_to_Kelvin( F )))  \n",
    "         "
   ]
  },
  {
   "cell_type": "code",
   "execution_count": 24,
   "metadata": {},
   "outputs": [
    {
     "name": "stdout",
     "output_type": "stream",
     "text": [
      "Temperature in Kelvin ( K ) =  573.15\n"
     ]
    }
   ],
   "source": [
    "def Celsius_to_Kelvin(C): \n",
    "    return (C + 273.15) \n",
    "C = 300\n",
    "  \n",
    "print(\"Temperature in Kelvin ( K ) = \", Celsius_to_Kelvin(C))\n",
    "                      "
   ]
  },
  {
   "cell_type": "code",
   "execution_count": 30,
   "metadata": {},
   "outputs": [
    {
     "name": "stdout",
     "output_type": "stream",
     "text": [
      "Please enter temperature in fahrenheit:98\n",
      "Temperature in celsius:  36.666666666666664\n"
     ]
    }
   ],
   "source": [
    "# fahrenheit to celsius\n",
    "\n",
    "temperature = float(input(\"Please enter temperature in fahrenheit:\"))\n",
    "celsius = (temperature - 32) * 5 / 9\n",
    "print(\"Temperature in celsius: \" , celsius)"
   ]
  },
  {
   "cell_type": "code",
   "execution_count": 29,
   "metadata": {},
   "outputs": [
    {
     "name": "stdout",
     "output_type": "stream",
     "text": [
      "Enter temperature in celsius: 37\n",
      "37.00 Celsius is: 98.60 Fahrenheit\n"
     ]
    }
   ],
   "source": [
    "# Convert Celsius To Fahrenheit\n",
    "celsius = float(input(\"Enter temperature in celsius: \"))\n",
    "fahrenheit = (celsius * 9/5) + 32\n",
    "print('%.2f Celsius is: %0.2f Fahrenheit' %(celsius, fahrenheit))"
   ]
  },
  {
   "cell_type": "code",
   "execution_count": 34,
   "metadata": {},
   "outputs": [
    {
     "data": {
      "text/plain": [
       "int"
      ]
     },
     "execution_count": 34,
     "metadata": {},
     "output_type": "execute_result"
    }
   ],
   "source": [
    "# Question 6:\n",
    "# Write a program to demonstrate all the available data types in Python. Hint: Use type() function.\n",
    "\n",
    "a = 5\n",
    "type(a)\n"
   ]
  },
  {
   "cell_type": "code",
   "execution_count": 33,
   "metadata": {},
   "outputs": [
    {
     "data": {
      "text/plain": [
       "float"
      ]
     },
     "execution_count": 33,
     "metadata": {},
     "output_type": "execute_result"
    }
   ],
   "source": [
    "b = 2.25\n",
    "type(b)"
   ]
  },
  {
   "cell_type": "code",
   "execution_count": 35,
   "metadata": {},
   "outputs": [
    {
     "data": {
      "text/plain": [
       "str"
      ]
     },
     "execution_count": 35,
     "metadata": {},
     "output_type": "execute_result"
    }
   ],
   "source": [
    " c= (\"krishna sagar\")\n",
    "type(c)"
   ]
  },
  {
   "cell_type": "code",
   "execution_count": 36,
   "metadata": {},
   "outputs": [
    {
     "data": {
      "text/plain": [
       "bool"
      ]
     },
     "execution_count": 36,
     "metadata": {},
     "output_type": "execute_result"
    }
   ],
   "source": [
    "d = True\n",
    "type(d)"
   ]
  },
  {
   "cell_type": "code",
   "execution_count": 37,
   "metadata": {},
   "outputs": [
    {
     "data": {
      "text/plain": [
       "dict"
      ]
     },
     "execution_count": 37,
     "metadata": {},
     "output_type": "execute_result"
    }
   ],
   "source": [
    "e = {\"name\" : \"krishna\", \"age\" : 25}\n",
    "type(e)"
   ]
  },
  {
   "cell_type": "code",
   "execution_count": 41,
   "metadata": {},
   "outputs": [
    {
     "data": {
      "text/plain": [
       "list"
      ]
     },
     "execution_count": 41,
     "metadata": {},
     "output_type": "execute_result"
    }
   ],
   "source": [
    "f = [\"krishna\", \"rama\", \"abhi\"]\n",
    "type(f)"
   ]
  },
  {
   "cell_type": "code",
   "execution_count": 42,
   "metadata": {},
   "outputs": [
    {
     "data": {
      "text/plain": [
       "tuple"
      ]
     },
     "execution_count": 42,
     "metadata": {},
     "output_type": "execute_result"
    }
   ],
   "source": [
    "g = (\"krishna\", \"rama\", \"abhi\")\n",
    "type(g)"
   ]
  },
  {
   "cell_type": "code",
   "execution_count": 43,
   "metadata": {},
   "outputs": [
    {
     "data": {
      "text/plain": [
       "range"
      ]
     },
     "execution_count": 43,
     "metadata": {},
     "output_type": "execute_result"
    }
   ],
   "source": [
    "h = range(6)\n",
    "type(h)"
   ]
  },
  {
   "cell_type": "code",
   "execution_count": 44,
   "metadata": {},
   "outputs": [
    {
     "data": {
      "text/plain": [
       "float"
      ]
     },
     "execution_count": 44,
     "metadata": {},
     "output_type": "execute_result"
    }
   ],
   "source": [
    "j = 10.5\n",
    "type(j)"
   ]
  },
  {
   "cell_type": "code",
   "execution_count": 45,
   "metadata": {},
   "outputs": [
    {
     "data": {
      "text/plain": [
       "complex"
      ]
     },
     "execution_count": 45,
     "metadata": {},
     "output_type": "execute_result"
    }
   ],
   "source": [
    "k = 10j\n",
    "type(k)"
   ]
  },
  {
   "cell_type": "markdown",
   "metadata": {},
   "source": [
    "# Question 7:\n",
    "# Create a Markdown cell in jupyter and list the steps discussed in the session by Dr. Darshan\n",
    "# Ingle sir to create Github profile and upload Githubs Assignment link.\n",
    "\n",
    "__krishna sagar__\n",
    "___this is krishna sagr___"
   ]
  },
  {
   "cell_type": "markdown",
   "metadata": {},
   "source": [
    "5**3\n",
    "___this is krishna sagar___"
   ]
  },
  {
   "cell_type": "code",
   "execution_count": null,
   "metadata": {},
   "outputs": [],
   "source": [
    "# Question 2 :\n",
    "# Write a program to find the fourth root of a number.\n",
    "\n",
    "\n"
   ]
  }
 ],
 "metadata": {
  "kernelspec": {
   "display_name": "Python 3",
   "language": "python",
   "name": "python3"
  },
  "language_info": {
   "codemirror_mode": {
    "name": "ipython",
    "version": 3
   },
   "file_extension": ".py",
   "mimetype": "text/x-python",
   "name": "python",
   "nbconvert_exporter": "python",
   "pygments_lexer": "ipython3",
   "version": "3.7.6"
  }
 },
 "nbformat": 4,
 "nbformat_minor": 4
}
